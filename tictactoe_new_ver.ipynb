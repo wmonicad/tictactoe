{
 "cells": [
  {
   "cell_type": "markdown",
   "metadata": {},
   "source": [
    "# 1. Setting up the basic structure of the game"
   ]
  },
  {
   "cell_type": "markdown",
   "metadata": {},
   "source": [
    "Generate a board which size could vary from 3 x 3 to 10 x 10."
   ]
  },
  {
   "cell_type": "code",
   "execution_count": null,
   "metadata": {
    "collapsed": true
   },
   "outputs": [],
   "source": [
    "import random\n",
    "\n",
    "def boardsize():\n",
    "    global size\n",
    "\n",
    "    size = random.randint(3, 10)\n",
    "    print \"You will play on a %d by %d board\" % (size, size)\n",
    "         "
   ]
  },
  {
   "cell_type": "markdown",
   "metadata": {},
   "source": [
    "Visualizing the board.\n",
    "X and Y coordinates are displayed so it's easier for players to input their intended moves."
   ]
  },
  {
   "cell_type": "code",
   "execution_count": null,
   "metadata": {
    "collapsed": true
   },
   "outputs": [],
   "source": [
    "def drawBoard(board):\n",
    "    xcoord = []\n",
    "    for ii in range(size):\n",
    "        xcoord.append(str(ii))\n",
    "\n",
    "    print \" \", xcoord\n",
    "    for i in range(size):\n",
    "        print i, theBoard[i]\n",
    "        print \"-------------------------------------------------\""
   ]
  },
  {
   "cell_type": "markdown",
   "metadata": {},
   "source": [
    "The player is asked to choose which letter he/she wants to be."
   ]
  },
  {
   "cell_type": "code",
   "execution_count": null,
   "metadata": {
    "collapsed": true
   },
   "outputs": [],
   "source": [
    "def inputPlayerLetter():\n",
    "    letter = ''\n",
    "    while not (letter == 'X' or letter == 'O'):\n",
    "        print \"Do you want to be X or O?\"\n",
    "        letter = raw_input().upper()\n",
    "\n",
    "# Returns the player's letter as the 1st element and the computer's letter as the 2nd element\n",
    "    if letter == 'X':\n",
    "        return ['X', 'O']\n",
    "    else:\n",
    "        return ['O', 'X']"
   ]
  },
  {
   "cell_type": "markdown",
   "metadata": {},
   "source": [
    "Randomly chooses which player goes first."
   ]
  },
  {
   "cell_type": "code",
   "execution_count": null,
   "metadata": {
    "collapsed": true
   },
   "outputs": [],
   "source": [
    "def whoGoesFirst():\n",
    "    if random.randint(0, 1) == 0:\n",
    "        return 'computer'\n",
    "    else:\n",
    "        return 'player'"
   ]
  },
  {
   "cell_type": "markdown",
   "metadata": {},
   "source": [
    "At the end of a game, the player is asked whether he / she wants to play another round."
   ]
  },
  {
   "cell_type": "code",
   "execution_count": null,
   "metadata": {
    "collapsed": true
   },
   "outputs": [],
   "source": [
    "def playAgain():\n",
    "    print \"Do you want to play again? (yes or no)\"\n",
    "    return raw_input().lower().startswith('y')"
   ]
  },
  {
   "cell_type": "markdown",
   "metadata": {},
   "source": [
    "# 2. Defining the game strategy"
   ]
  },
  {
   "cell_type": "markdown",
   "metadata": {},
   "source": [
    "This function obtains the X and Y coordinates of the intended move and then inputs the player/computer's letter there"
   ]
  },
  {
   "cell_type": "code",
   "execution_count": null,
   "metadata": {
    "collapsed": true
   },
   "outputs": [],
   "source": [
    "def makeMove(board, letter, move_x, move_y):\n",
    "    board[move_y][move_x] = letter"
   ]
  },
  {
   "cell_type": "markdown",
   "metadata": {},
   "source": [
    "This function checks whether either player has won to determine if the game should end or continue."
   ]
  },
  {
   "cell_type": "code",
   "execution_count": null,
   "metadata": {
    "collapsed": true
   },
   "outputs": [],
   "source": [
    "def isWinner(board, letter):\n",
    "    isWinner.win = 0\n",
    "\n",
    "# Check if either player has won by having all his/her letters across a row horizontally\n",
    "    for i in range(size):\n",
    "        if board[i].count(letter) == size:\n",
    "            isWinner.win = 1\n",
    "\n",
    "        else:\n",
    "           None\n",
    "\n",
    "# Check if either player has won by having all his/her letters across a column vertically\n",
    "    if isWinner.win != 1:\n",
    "        for ii in range(size):\n",
    "            cols = []\n",
    "                       \n",
    "            for i in range(size):\n",
    "                if board[i][ii] == letter:\n",
    "                    cols.append(1)\n",
    "                else:\n",
    "                    None\n",
    "                if sum(cols) == size:\n",
    "                    isWinner.win = 1\n",
    "                    break\n",
    "            else:\n",
    "                None\n",
    "    else:\n",
    "        None\n",
    "\n",
    "# Check if either player has won by having all his/her letters across the diagonal lines\n",
    "# First, check the diagonal line from upper left corner to botton right corner\n",
    "    if isWinner.win !=1:\n",
    "        diag1 = []\n",
    "        for i in range(size):\n",
    "            if board[i][i] == letter:\n",
    "                diag1.append(1)\n",
    "            else:\n",
    "                None\n",
    "        if sum(diag1) == size:\n",
    "            isWinner.win = 1\n",
    "        else:\n",
    "            None\n",
    "    else:\n",
    "        None\n",
    "\n",
    "# Then, check the diagonal line from upper right corner to bottom left corner\n",
    "    if isWinner.win !=1:\n",
    "        diag2 = []\n",
    "        for i in range(size):\n",
    "            if board[i][size-1-i] == letter:\n",
    "                diag2.append(1)\n",
    "            else:\n",
    "                None\n",
    "        if sum(diag2) == size:\n",
    "                isWinner.win = 1\n",
    "        else:\n",
    "            None\n",
    "    else:\n",
    "        None\n",
    "    \n",
    "    if isWinner.win == 1:\n",
    "        return True"
   ]
  },
  {
   "cell_type": "markdown",
   "metadata": {},
   "source": [
    "This function checks if the game is a tie, if so, the game is terminated.\n",
    "A tie is declared if all rows, columns and diagonal lines contain at least one \"X\" and \"O\" so that there are no possible moves for either player to win."
   ]
  },
  {
   "cell_type": "code",
   "execution_count": null,
   "metadata": {
    "collapsed": true
   },
   "outputs": [],
   "source": [
    "def isTie(board, playerLetter, computerLetter):\n",
    "\n",
    "# First, check if each row contains at least one \"X\" and \"O\"\n",
    "    row_tiecheck = []\n",
    "    for i in board:\n",
    "        if playerLetter in i and computerLetter in i:\n",
    "            row_tiecheck.append(1)\n",
    "        else:\n",
    "            None\n",
    "\n",
    "# Secondly, check if each column contains at least one \"X\" and \"O\"\n",
    "    col_tiecheck = []\n",
    "    for i in range(size):\n",
    "        col_letters = []\n",
    "        for ii in range(size):\n",
    "            col_letters.append(board[ii][i])\n",
    "        if playerLetter in col_letters and computerLetter in col_letters:\n",
    "            col_tiecheck.append(1)\n",
    "\n",
    "\n",
    "# Then, check if each diagonal line contains at least one \"X\" and \"O\"\n",
    "    diag_tiecheck = []\n",
    "    diag1_letters = []\n",
    "    diag2_letters = []\n",
    "    for i in range(size):\n",
    "        diag1_letters.append(board[i][i])\n",
    "        diag2_letters.append(board[i][size-1-i])\n",
    "    if playerLetter in diag1_letters and computerLetter in diag1_letters:\n",
    "        diag_tiecheck.append(1)\n",
    "\n",
    "    if playerLetter in diag2_letters and computerLetter in diag2_letters:\n",
    "        diag_tiecheck.append(1)\n",
    "\n",
    "\n",
    "# The game is a tie if all rows, columns and diagnal lines contain \"X\" and \"O\"\n",
    "    if sum(row_tiecheck) == size and sum(col_tiecheck) == size and len(diag_tiecheck) == 2:\n",
    "        return True"
   ]
  },
  {
   "cell_type": "markdown",
   "metadata": {},
   "source": [
    "A duplicate of the board is made in order to test if a move causes a player to win."
   ]
  },
  {
   "cell_type": "code",
   "execution_count": null,
   "metadata": {
    "collapsed": true
   },
   "outputs": [],
   "source": [
    "def getBoardCopy(board):\n",
    "    dupeBoard = []\n",
    "    for i in board:\n",
    "        dupeBoard.append(i)\n",
    "    return dupeBoard"
   ]
  },
  {
   "cell_type": "markdown",
   "metadata": {},
   "source": [
    "Before any move is implemented, it is checked whether the cell to be taken up is free."
   ]
  },
  {
   "cell_type": "code",
   "execution_count": null,
   "metadata": {
    "collapsed": true
   },
   "outputs": [],
   "source": [
    "def isSpaceFree(board, move_x, move_y):\n",
    "    return board[move_y][move_x] == ' '"
   ]
  },
  {
   "cell_type": "markdown",
   "metadata": {},
   "source": [
    "This function lets the human player input his/her move according to the coordinates he/she chose."
   ]
  },
  {
   "cell_type": "code",
   "execution_count": null,
   "metadata": {
    "collapsed": true
   },
   "outputs": [],
   "source": [
    "def getPlayerMove(board):\n",
    "    move_x = ' '\n",
    "    move_y = ' '\n",
    "# The while-statement ensures player inputs valid coordinates within the board AND the coordinates are not already taken up\n",
    "    while move_x not in range(0, size) or move_y not in range(0, size) or not isSpaceFree(board, move_x, move_y):\n",
    "        move_x = int(raw_input(\"Enter x-coordinate of your next move: \"))\n",
    "        move_y = int(raw_input(\"Enter y-coordinate of your next move: \"))\n",
    "     \n",
    "    return move_x, move_y"
   ]
  },
  {
   "cell_type": "markdown",
   "metadata": {},
   "source": [
    "Now, the most exciting part. \n",
    "This function helps the computer to determine its move."
   ]
  },
  {
   "cell_type": "code",
   "execution_count": null,
   "metadata": {
    "collapsed": true
   },
   "outputs": [],
   "source": [
    "def getComputerMove(board, computerLetter):\n",
    "    if computerLetter == 'X':\n",
    "        playerLetter = 'O'\n",
    "    else:\n",
    "        playerLetter = 'X'\n",
    "        \n",
    "    move_x = ' '\n",
    "    move_y = ' '\n",
    "\n",
    "# First, the computer checks if it can win in the next move, if so, the computer will implement that move\n",
    "    for i in range(size):\n",
    "        for ii in range(size):\n",
    "# Get a copy of the current board\n",
    "            copy = getBoardCopy(board)\n",
    "# If a cell is free, try to put the computer's letter there\n",
    "            if isSpaceFree(copy, ii, i):\n",
    "                makeMove(copy, computerLetter, ii, i)\n",
    "# If the move makes the computer win, return the X and Y coordinates in order to implement that move\n",
    "                if isWinner(copy, computerLetter): \n",
    "                    move_x = ii\n",
    "                    move_y = i\n",
    "                    return move_x, move_y\n",
    "                    copy[i][ii] = \" \"\n",
    "                    break\n",
    "                \n",
    "                else:\n",
    "                    \n",
    "                    copy[i][ii] = \" \"\n",
    "            else:\n",
    "                None\n",
    "\n",
    "# Then, the computer checks if the human player can win in his/her next move\n",
    "# If so, the computer will take up that place to block the human player immediately\n",
    "    for i in range(size):\n",
    "        for ii in range(size):\n",
    "# Similarly, a copy of the board is obtained and empty cells are checked if they can cause the human player to win\n",
    "            copy = getBoardCopy(board)\n",
    "            if isSpaceFree(copy, ii, i):\n",
    "                makeMove(copy, playerLetter, ii, i)\n",
    "# If the cell will cause a human player to win in its next move, the computer will take the cell to block the human player\n",
    "                if isWinner(copy, playerLetter): \n",
    "                    move_x = ii\n",
    "                    move_y = i\n",
    "                    return move_x, move_y\n",
    "                    copy[i][ii] = \" \"\n",
    "                    break\n",
    "                \n",
    "                else:\n",
    "                    \n",
    "                    copy[i][ii] = \" \"\n",
    "            else:\n",
    "                None\n",
    "\n",
    "# The while-statement ensures the computer inputs valid coordinates within the board AND the cell has not been taken up \n",
    "    while move_x not in range(0, size) or move_y not in range(0, size):\n",
    "\n",
    "# If none of the cells will cause the computer or human pleyr to win in the next move, the computer will try to make its best possible move\n",
    "# The strategy will be to calculate a score for each cell and take the cell that has the highest score\n",
    "\n",
    "# First, the computer will look at each row in the board and calculate 2 scores, offensive and defensive score.\n",
    "# Offensive score represents how likely certain coordinates will help to extend the computer's current line, if any.\n",
    "# A row with more of the computer's letter is regarded as more valuable in helping the computer to win\n",
    "# On the otherhand, defensive score aims at blocking the human player's line, if any.\n",
    "# A row with more of the human player's line is regarded as a more imminent threat therefore a higher defensive score is assigned.\n",
    "\n",
    "        offensive_row = []\n",
    "        defensive_row = []\n",
    "        offensive_col = []\n",
    "        defensive_col = []\n",
    "        offensive = []\n",
    "        defensive = []\n",
    "        score = []\n",
    "        \n",
    "# Score calculation by row\n",
    "# Offensive score of each cell = number of computer letters in that row\n",
    "# Likewise, defensive score of each cell = number of human plater letters in that row\n",
    "# However, if that row has both computer and player letters, that row is a tie. Score of cells in that row = 0\n",
    "        for i in range(size):\n",
    "            for ii in range(size):\n",
    "                if computerLetter in board[i] and playerLetter in board[i]:\n",
    "                    offensive_row.append(0)\n",
    "                    defensive_row.append(0)\n",
    "                else:\n",
    "                    offensive_row.append(board[i].count(computerLetter))\n",
    "                    defensive_row.append(board[i].count(playerLetter))\n",
    "\n",
    "#Similar scores are calculated for each columns in the board.\n",
    "\n",
    "        for ii in range(size):\n",
    "            temp_off_col = []\n",
    "            temp_def_col = []   \n",
    "            for iii in range(size):\n",
    "                if board[iii][ii] == computerLetter:\n",
    "                    temp_off_col.append(1)\n",
    "                elif board[iii][ii] == playerLetter:\n",
    "                    temp_def_col.append(1)\n",
    "\n",
    "# If there is no player letter in that column, offensive score of that column  = no. of computer letters\n",
    "# Otherwise, offensive score = 0\n",
    "            if sum(temp_def_col) == 0:\n",
    "                offensive_col.append(sum(temp_off_col))\n",
    "            else:\n",
    "                offensive_col.append(0)\n",
    "# Likewise, if there is no computer letter in that column, defensive score of that column = no. of player letters\n",
    "# Otherwise, defensive score = 0\n",
    "            if sum(temp_off_col) == 0:\n",
    "                defensive_col.append(sum(temp_def_col))\n",
    "            else:\n",
    "                defensive_col.append(0)\n",
    "            \n",
    "# Multiply the column scores to assign the same column scores for each row             \n",
    "        offensive_col = offensive_col*size\n",
    "        defensive_col = defensive_col*size\n",
    "\n",
    "# Score calculation by diagonal lines\n",
    "# First, calculate the offensive score for diagonal1 (top left to bottom right) and diagonal 2 (top right to bottom left)\n",
    "# If there is no player letter in that diagonal line, score of that line = no. of computer letters\n",
    "# Otherwise, that diagonal line is a tie hence score = 0\n",
    "        temp_off_diag1 = []\n",
    "        temp_off_diag2 = []\n",
    "\n",
    "        for i in range(size):\n",
    "            if board[i][i] == computerLetter:\n",
    "                temp_off_diag1.append(1)\n",
    "            elif board[i][i] == playerLetter:\n",
    "                temp_off_diag1.append(0)\n",
    "        for i in range(size):\n",
    "            if board[i][size-1-i] == computerLetter:\n",
    "                temp_off_diag2.append(1)\n",
    "            elif board[i][size-1-i] == playerLetter:\n",
    "                temp_off_diag2.append(0)\n",
    "                \n",
    "        if not 0 in temp_off_diag1:\n",
    "            diag_offscore1 = sum(temp_off_diag1)\n",
    "        else:\n",
    "            diag_offscore1 = 0\n",
    "\n",
    "        if not 0 in temp_off_diag2:\n",
    "            diag_offscore2 = sum(temp_off_diag2)\n",
    "        else:\n",
    "            diag_offscore2 = 0\n",
    "                \n",
    "                \n",
    "        \n",
    "\n",
    "        off_diag1 = [0]*size**2\n",
    "        off_diag2 = [0]*size**2\n",
    "        for i in range(size):\n",
    "            off_diag1[i*(size+1)] = diag_offscore1\n",
    "            off_diag2[(i+1)*(size-1)] = diag_offscore2\n",
    "\n",
    "\n",
    "        off_diag = [x + y for x, y in zip(off_diag1, off_diag2)]\n",
    "\n",
    "# Calculate defensive score for each diagonal lines using the same principles above\n",
    "        temp_def_diag1 = []\n",
    "        temp_def_diag2 = []\n",
    "\n",
    "        for i in range(size):\n",
    "            if board[i][i] == playerLetter:\n",
    "                temp_def_diag1.append(1)\n",
    "            elif board[i][i] == computerLetter:\n",
    "                temp_def_diag1.append(0)\n",
    "                \n",
    "        for i in range(size):\n",
    "            if board[i][size-1-i] == playerLetter:\n",
    "                temp_def_diag2.append(1) \n",
    "            elif board[i][size-1-i] == computerLetter:\n",
    "                temp_def_diag2.append(0)\n",
    "                \n",
    "        if not 0 in temp_def_diag1:\n",
    "            diag_defscore1 = sum(temp_def_diag1)\n",
    "        else:\n",
    "            diag_defscore1 = 0\n",
    "\n",
    "        if not 0 in temp_def_diag2:\n",
    "            diag_defscore2 = sum(temp_def_diag2)\n",
    "        else:\n",
    "            diag_defscore2 = 0\n",
    "        \n",
    "\n",
    "        def_diag1 = [0]*size**2\n",
    "        def_diag2 = [0]*size**2\n",
    "        for i in range(size):\n",
    "            def_diag1[i*(size+1)] = diag_defscore1\n",
    "            def_diag2[(i+1)*(size-1)] = diag_defscore2\n",
    "        def_diag = [x + y for x, y in zip(def_diag1, def_diag2)]\n",
    "\n",
    "\n",
    "# The scores for rows and columns are summed together to calculate aggregate offensive and defensive scores for each cell.\n",
    "# Cells which were taken are assigned score \"-1\" since they cannot be chosen \n",
    "        offensive = [x + y + z for x, y, z in zip(offensive_row, offensive_col, off_diag)]      \n",
    "        defensive = [x + y + z for x, y, z in zip(defensive_row, defensive_col, def_diag)]\n",
    "        for i in range(size):\n",
    "            for ii in range(size):\n",
    "                if board[ii][i] == \"X\" or board[ii][i] == \"O\":\n",
    "                    offensive[(ii*size+i)] = -1\n",
    "                    defensive[(ii*size+i)] = -1\n",
    "\n",
    "\n",
    "# A total score (offensive+defensive) is calculated for each cell.\n",
    "      \n",
    "        score = [x + y for x, y in zip(offensive, defensive)]   \n",
    "    \n",
    "\n",
    "# The computer will try to take the cell with the highest total score. If there are more than one cells \n",
    "# that share the same highest total score, the one with higher offensive score is chosen.\n",
    "# If the offensive scores are the same, choose any one. \n",
    "\n",
    "        maxval_score = max(score)\n",
    "        indices_score = [index for index, val in enumerate(score) if val == maxval_score]\n",
    "\n",
    "        if len(indices_score) == 1:\n",
    "            index = indices_score[0]\n",
    "        \n",
    "        else:\n",
    "            indices_offensive = {}\n",
    "            for i in range(len(indices_score)):\n",
    "                indices_offensive[indices_score[i]] = offensive[indices_score[i]]\n",
    "            sort_offensive = sorted(indices_offensive, key=indices_offensive.get, reverse = True)\n",
    "            index = sort_offensive[0]\n",
    "\n",
    "# Obtain the X and Y coordinates of that cell      \n",
    "        move_y = int(index / size)\n",
    "        move_x = index - size * move_y\n",
    "    \n",
    "        return move_x, move_y\n",
    "    \n",
    "        "
   ]
  },
  {
   "cell_type": "markdown",
   "metadata": {},
   "source": [
    "Return True if every cell on the board has been taken to declare the game a tie. Otherwise return False.\n",
    "This function helps to terminate the game whenever its a tie instead of having to fill up the entire board for the game to end."
   ]
  },
  {
   "cell_type": "code",
   "execution_count": null,
   "metadata": {
    "collapsed": true
   },
   "outputs": [],
   "source": [
    "def isBoardFull(board):\n",
    "    for ii in range(size):\n",
    "        for i in range(size):\n",
    "            if isSpaceFree(board, ii, i):\n",
    "                return False\n",
    "        \n",
    "    return True"
   ]
  },
  {
   "cell_type": "markdown",
   "metadata": {},
   "source": [
    "# Let's start playing!"
   ]
  },
  {
   "cell_type": "code",
   "execution_count": null,
   "metadata": {
    "scrolled": false
   },
   "outputs": [],
   "source": [
    "print \"Welcome to Tic Tac Toe!\"\n",
    "\n",
    "# Determining the size of the board\n",
    "boardsize()\n",
    "\n",
    "while True:\n",
    "# Setting up the board \n",
    "    theBoard = [[] for i in range(size)]\n",
    "    for i in range(size):\n",
    "        for ii in range(size):\n",
    "            theBoard[i].append(\" \")\n",
    "\n",
    "# Player to choose letter\n",
    "    playerLetter, computerLetter = inputPlayerLetter()\n",
    "\n",
    "# Randomly decide who goes first\n",
    "    turn = whoGoesFirst()\n",
    "    print \"The \" + turn + \" will go first.\"\n",
    "    gameIsPlaying = True\n",
    "\n",
    "    while gameIsPlaying:\n",
    "        if turn == 'player':\n",
    "            # Player’s turn.\n",
    "            drawBoard(theBoard)\n",
    "            # Ask for player's input of coordinates\n",
    "            move_x, move_y = getPlayerMove(theBoard)\n",
    "            # With player's input, place his/her letter on the relevant cell\n",
    "            makeMove(theBoard, playerLetter, move_x, move_y)\n",
    "\n",
    "            #check if player has won, if so, end the game\n",
    "            if isWinner(theBoard, playerLetter):\n",
    "                drawBoard(theBoard)\n",
    "                print \"The player has won.\"\n",
    "                gameIsPlaying = False\n",
    "            # check if all rows, columns and diagonal lines contain both player and computer letter and declare the game a tie\n",
    "            elif isTie(theBoard, playerLetter, computerLetter):\n",
    "                drawBoard(theBoard)\n",
    "                print \"There are no possible winning moves, the game is a tie!\"\n",
    "                gameIsPlaying = False\n",
    "            else:\n",
    "                # check if all cells in the board are taken hence the game is a tie, end the game\n",
    "                if isBoardFull(theBoard):\n",
    "                    drawBoard(theBoard)\n",
    "                    print \"The board is full, the game is a tie!\"\n",
    "                    gameIsPlaying = False\n",
    "                else:\n",
    "                    # if player hasn't won and it's not a tie, it will be the computer's turn to play\n",
    "                    turn = 'computer'\n",
    "\n",
    "        else:\n",
    "            # Computer’s turn.\n",
    "            # using the scoring mechanism to decide what move the computer will make\n",
    "            move_x, move_y = getComputerMove(theBoard, computerLetter)\n",
    "            makeMove(theBoard, computerLetter, move_x, move_y)\n",
    "            #similarly, check if the computer has won or if the game is a tie\n",
    "            if isWinner(theBoard, computerLetter):\n",
    "                drawBoard(theBoard)\n",
    "                print \"The computer has won.\"\n",
    "                gameIsPlaying = False\n",
    "            elif isTie(theBoard, playerLetter, computerLetter):\n",
    "                drawBoard(theBoard)\n",
    "                print \"There are no possible winning moves, the game is a tie!\"\n",
    "                gameIsPlaying = False\n",
    "            else:\n",
    "                if isBoardFull(theBoard):\n",
    "                    drawBoard(theBoard)\n",
    "                    print \"The game is a tie!\"\n",
    "                    break\n",
    "                else:\n",
    "                    turn = 'player'\n",
    "    \n",
    "# after the game has ended, ask if the player wants to play again\n",
    "    if not playAgain():\n",
    "        break"
   ]
  }
 ],
 "metadata": {
  "kernelspec": {
   "display_name": "Python 2",
   "language": "python",
   "name": "python2"
  },
  "language_info": {
   "codemirror_mode": {
    "name": "ipython",
    "version": 2
   },
   "file_extension": ".py",
   "mimetype": "text/x-python",
   "name": "python",
   "nbconvert_exporter": "python",
   "pygments_lexer": "ipython2",
   "version": "2.7.13"
  }
 },
 "nbformat": 4,
 "nbformat_minor": 2
}
